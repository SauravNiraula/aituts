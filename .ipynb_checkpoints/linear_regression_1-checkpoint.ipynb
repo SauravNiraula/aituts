{
 "cells": [
  {
   "cell_type": "code",
   "execution_count": 1,
   "metadata": {},
   "outputs": [],
   "source": [
    "import numpy as np\n",
    "import pandas as pd\n",
    "import matplotlib.pyplot as plt"
   ]
  },
  {
   "cell_type": "code",
   "execution_count": 3,
   "metadata": {},
   "outputs": [],
   "source": [
    "dates = pd.date_range('1/1/2000', periods=8)\n",
    "df = pd.DataFrame(np.random.randn(8, 4), index=dates, columns=['A', 'B', 'C', 'D'])"
   ]
  },
  {
   "cell_type": "code",
   "execution_count": 4,
   "metadata": {},
   "outputs": [
    {
     "data": {
      "text/html": [
       "<div>\n",
       "<style scoped>\n",
       "    .dataframe tbody tr th:only-of-type {\n",
       "        vertical-align: middle;\n",
       "    }\n",
       "\n",
       "    .dataframe tbody tr th {\n",
       "        vertical-align: top;\n",
       "    }\n",
       "\n",
       "    .dataframe thead th {\n",
       "        text-align: right;\n",
       "    }\n",
       "</style>\n",
       "<table border=\"1\" class=\"dataframe\">\n",
       "  <thead>\n",
       "    <tr style=\"text-align: right;\">\n",
       "      <th></th>\n",
       "      <th>A</th>\n",
       "      <th>B</th>\n",
       "      <th>C</th>\n",
       "      <th>D</th>\n",
       "    </tr>\n",
       "  </thead>\n",
       "  <tbody>\n",
       "    <tr>\n",
       "      <td>2000-01-01</td>\n",
       "      <td>-0.340497</td>\n",
       "      <td>1.121230</td>\n",
       "      <td>-1.925517</td>\n",
       "      <td>1.675524</td>\n",
       "    </tr>\n",
       "    <tr>\n",
       "      <td>2000-01-02</td>\n",
       "      <td>-0.418043</td>\n",
       "      <td>-0.591418</td>\n",
       "      <td>1.733373</td>\n",
       "      <td>-0.262435</td>\n",
       "    </tr>\n",
       "    <tr>\n",
       "      <td>2000-01-03</td>\n",
       "      <td>0.487163</td>\n",
       "      <td>0.069788</td>\n",
       "      <td>1.057513</td>\n",
       "      <td>-0.489205</td>\n",
       "    </tr>\n",
       "    <tr>\n",
       "      <td>2000-01-04</td>\n",
       "      <td>-0.445040</td>\n",
       "      <td>0.531653</td>\n",
       "      <td>1.706241</td>\n",
       "      <td>-0.032527</td>\n",
       "    </tr>\n",
       "    <tr>\n",
       "      <td>2000-01-05</td>\n",
       "      <td>-0.046265</td>\n",
       "      <td>-1.758561</td>\n",
       "      <td>0.619093</td>\n",
       "      <td>0.124837</td>\n",
       "    </tr>\n",
       "    <tr>\n",
       "      <td>2000-01-06</td>\n",
       "      <td>0.171139</td>\n",
       "      <td>0.133558</td>\n",
       "      <td>-0.395863</td>\n",
       "      <td>-2.059124</td>\n",
       "    </tr>\n",
       "    <tr>\n",
       "      <td>2000-01-07</td>\n",
       "      <td>-0.538126</td>\n",
       "      <td>0.617631</td>\n",
       "      <td>-1.163778</td>\n",
       "      <td>-1.503716</td>\n",
       "    </tr>\n",
       "    <tr>\n",
       "      <td>2000-01-08</td>\n",
       "      <td>0.476732</td>\n",
       "      <td>-0.362338</td>\n",
       "      <td>0.795299</td>\n",
       "      <td>-1.360022</td>\n",
       "    </tr>\n",
       "  </tbody>\n",
       "</table>\n",
       "</div>"
      ],
      "text/plain": [
       "                   A         B         C         D\n",
       "2000-01-01 -0.340497  1.121230 -1.925517  1.675524\n",
       "2000-01-02 -0.418043 -0.591418  1.733373 -0.262435\n",
       "2000-01-03  0.487163  0.069788  1.057513 -0.489205\n",
       "2000-01-04 -0.445040  0.531653  1.706241 -0.032527\n",
       "2000-01-05 -0.046265 -1.758561  0.619093  0.124837\n",
       "2000-01-06  0.171139  0.133558 -0.395863 -2.059124\n",
       "2000-01-07 -0.538126  0.617631 -1.163778 -1.503716\n",
       "2000-01-08  0.476732 -0.362338  0.795299 -1.360022"
      ]
     },
     "execution_count": 4,
     "metadata": {},
     "output_type": "execute_result"
    }
   ],
   "source": [
    "df"
   ]
  },
  {
   "cell_type": "code",
   "execution_count": 5,
   "metadata": {},
   "outputs": [
    {
     "name": "stdout",
     "output_type": "stream",
     "text": [
      "[[-2.44407242 -1.12651813 -0.2153992   0.74842386]\n",
      " [ 0.47589746 -0.9653166  -0.11729894 -1.16342095]\n",
      " [ 0.82885288  0.51962155  0.39503249  1.12547362]\n",
      " [ 1.71710711 -0.46369002 -0.83962681  0.53119569]\n",
      " [-1.23935844  0.44738029 -0.88582653  0.03390156]\n",
      " [-0.03244088  0.36651503 -0.67278134 -1.06323031]\n",
      " [ 0.54754824 -0.99447035  0.39176187  0.99699402]\n",
      " [ 0.01487238 -1.747294   -0.81691243  0.45411658]]\n"
     ]
    }
   ],
   "source": [
    "print(np.random.randn(8, 4))"
   ]
  },
  {
   "cell_type": "code",
   "execution_count": 37,
   "metadata": {},
   "outputs": [],
   "source": [
    "# Test\n",
    "\n",
    "data = pd.DataFrame([[4,50],[4.5,57],[5,60],[5.7,69],[6,75]], columns = [\"height\",\"weight\"])"
   ]
  },
  {
   "cell_type": "code",
   "execution_count": 38,
   "metadata": {},
   "outputs": [
    {
     "data": {
      "text/html": [
       "<div>\n",
       "<style scoped>\n",
       "    .dataframe tbody tr th:only-of-type {\n",
       "        vertical-align: middle;\n",
       "    }\n",
       "\n",
       "    .dataframe tbody tr th {\n",
       "        vertical-align: top;\n",
       "    }\n",
       "\n",
       "    .dataframe thead th {\n",
       "        text-align: right;\n",
       "    }\n",
       "</style>\n",
       "<table border=\"1\" class=\"dataframe\">\n",
       "  <thead>\n",
       "    <tr style=\"text-align: right;\">\n",
       "      <th></th>\n",
       "      <th>height</th>\n",
       "      <th>weight</th>\n",
       "    </tr>\n",
       "  </thead>\n",
       "  <tbody>\n",
       "    <tr>\n",
       "      <td>0</td>\n",
       "      <td>4.0</td>\n",
       "      <td>50</td>\n",
       "    </tr>\n",
       "    <tr>\n",
       "      <td>1</td>\n",
       "      <td>4.5</td>\n",
       "      <td>57</td>\n",
       "    </tr>\n",
       "    <tr>\n",
       "      <td>2</td>\n",
       "      <td>5.0</td>\n",
       "      <td>60</td>\n",
       "    </tr>\n",
       "    <tr>\n",
       "      <td>3</td>\n",
       "      <td>5.7</td>\n",
       "      <td>69</td>\n",
       "    </tr>\n",
       "    <tr>\n",
       "      <td>4</td>\n",
       "      <td>6.0</td>\n",
       "      <td>75</td>\n",
       "    </tr>\n",
       "  </tbody>\n",
       "</table>\n",
       "</div>"
      ],
      "text/plain": [
       "   height  weight\n",
       "0     4.0      50\n",
       "1     4.5      57\n",
       "2     5.0      60\n",
       "3     5.7      69\n",
       "4     6.0      75"
      ]
     },
     "execution_count": 38,
     "metadata": {},
     "output_type": "execute_result"
    }
   ],
   "source": [
    "data"
   ]
  },
  {
   "cell_type": "code",
   "execution_count": 58,
   "metadata": {},
   "outputs": [
    {
     "name": "stdout",
     "output_type": "stream",
     "text": [
      "X-mean = 5.04, Y-Mean = 62.2\n"
     ]
    },
    {
     "data": {
      "text/plain": [
       "<matplotlib.collections.PathCollection at 0x21237890dc8>"
      ]
     },
     "execution_count": 58,
     "metadata": {},
     "output_type": "execute_result"
    },
    {
     "data": {
      "image/png": "[encoded data removed]",
      "text/plain": [
       "<Figure size 432x288 with 1 Axes>"
      ]
     },
     "metadata": {
      "needs_background": "light"
     },
     "output_type": "display_data"
    }
   ],
   "source": [
    "x = data['height'].values\n",
    "y = data['weight'].values\n",
    "\n",
    "X = np.mean(x)\n",
    "Y = np.mean(y)\n",
    "\n",
    "print(f'X-mean = {X}, Y-Mean = {Y}')\n",
    "\n",
    "plt.scatter(x,y)\n"
   ]
  },
  {
   "cell_type": "code",
   "execution_count": 40,
   "metadata": {},
   "outputs": [
    {
     "name": "stdout",
     "output_type": "stream",
     "text": [
      "32.36\n",
      "2.732\n"
     ]
    }
   ],
   "source": [
    "xSubMean = 0\n",
    "ySubMean = 0\n",
    "xSubMeanSum = 0\n",
    "ySubMeanSum = 0\n",
    "xySubMean = 0\n",
    "xySubMeanSum = 0\n",
    "x2SubMeanSum = 0\n",
    "x2SubMean = 0\n",
    "\n",
    "for i,j in zip(x,y):\n",
    "    \n",
    "    xSubMean = i-X\n",
    "    ySubMean = j-Y\n",
    "    xySubMean = (i-X) * (j-Y)\n",
    "    x2SubMean = xSubMean**2\n",
    "    \n",
    "    xSubMeanSum +=  xSubMean\n",
    "    ySubMeanSum +=  ySubMean\n",
    "    xySubMeanSum += xySubMean\n",
    "    x2SubMeanSum += x2SubMean\n",
    "\n",
    "print(xySubMeanSum)\n",
    "print(x2SubMeanSum)"
   ]
  },
  {
   "cell_type": "code",
   "execution_count": 41,
   "metadata": {},
   "outputs": [
    {
     "name": "stdout",
     "output_type": "stream",
     "text": [
      "11.844802342606148\n",
      "2.5021961932650214\n"
     ]
    }
   ],
   "source": [
    "slope = xySubMeanSum/x2SubMeanSum\n",
    "yInter = Y - (slope * X)\n",
    "\n",
    "print(slope)\n",
    "print(yInter)\n",
    "\n",
    "aftery = []\n",
    "\n",
    "for i in x:\n",
    "    aftery.append(slope*i + yInter)\n"
   ]
  },
  {
   "cell_type": "code",
   "execution_count": 47,
   "metadata": {},
   "outputs": [
    {
     "data": {
      "image/png": "[encoded data removed]",
      "text/plain": [
       "<Figure size 432x288 with 1 Axes>"
      ]
     },
     "metadata": {
      "needs_background": "light"
     },
     "output_type": "display_data"
    }
   ],
   "source": [
    "plt.plot(x,aftery)\n",
    "plt.scatter(x,y)\n",
    "plt.grid()\n",
    "plt.show()"
   ]
  },
  {
   "cell_type": "code",
   "execution_count": 63,
   "metadata": {},
   "outputs": [
    {
     "data": {
      "text/plain": [
       "0.9808029780110927"
      ]
     },
     "execution_count": 63,
     "metadata": {},
     "output_type": "execute_result"
    }
   ],
   "source": [
    "from sklearn.linear_model import LinearRegression\n",
    "m = len(x)\n",
    "x = x.reshape((m,1))\n",
    "reg = LinearRegression().fit(x, y)\n",
    "reg.score(x, y)"
   ]
  },
  {
   "cell_type": "code",
   "execution_count": 53,
   "metadata": {},
   "outputs": [
    {
     "name": "stdout",
     "output_type": "stream",
     "text": [
      "[4.  4.5 5.  5.7 6. ]\n"
     ]
    }
   ],
   "source": [
    "print(x)"
   ]
  },
  {
   "cell_type": "code",
   "execution_count": 60,
   "metadata": {},
   "outputs": [
    {
     "name": "stdout",
     "output_type": "stream",
     "text": [
      "[[4. ]\n",
      " [4.5]\n",
      " [5. ]\n",
      " [5.7]\n",
      " [6. ]]\n"
     ]
    }
   ],
   "source": [
    "print(x)"
   ]
  },
  {
   "cell_type": "code",
   "execution_count": null,
   "metadata": {},
   "outputs": [],
   "source": []
  },
  {
   "cell_type": "code",
   "execution_count": null,
   "metadata": {},
   "outputs": [],
   "source": []
  },
  {
   "cell_type": "code",
   "execution_count": null,
   "metadata": {},
   "outputs": [],
   "source": []
  },
  {
   "cell_type": "code",
   "execution_count": null,
   "metadata": {},
   "outputs": [],
   "source": []
  },
  {
   "cell_type": "code",
   "execution_count": null,
   "metadata": {},
   "outputs": [],
   "source": []
  },
  {
   "cell_type": "code",
   "execution_count": null,
   "metadata": {},
   "outputs": [],
   "source": []
  },
  {
   "cell_type": "code",
   "execution_count": null,
   "metadata": {},
   "outputs": [],
   "source": []
  },
  {
   "cell_type": "code",
   "execution_count": null,
   "metadata": {},
   "outputs": [],
   "source": []
  },
  {
   "cell_type": "code",
   "execution_count": null,
   "metadata": {},
   "outputs": [],
   "source": []
  },
  {
   "cell_type": "code",
   "execution_count": null,
   "metadata": {},
   "outputs": [],
   "source": []
  },
  {
   "cell_type": "code",
   "execution_count": null,
   "metadata": {},
   "outputs": [],
   "source": []
  },
  {
   "cell_type": "code",
   "execution_count": null,
   "metadata": {},
   "outputs": [],
   "source": []
  },
  {
   "cell_type": "code",
   "execution_count": null,
   "metadata": {},
   "outputs": [],
   "source": []
  },
  {
   "cell_type": "code",
   "execution_count": null,
   "metadata": {},
   "outputs": [],
   "source": []
  },
  {
   "cell_type": "code",
   "execution_count": null,
   "metadata": {},
   "outputs": [],
   "source": []
  },
  {
   "cell_type": "code",
   "execution_count": null,
   "metadata": {},
   "outputs": [],
   "source": []
  },
  {
   "cell_type": "code",
   "execution_count": null,
   "metadata": {},
   "outputs": [],
   "source": []
  },
  {
   "cell_type": "code",
   "execution_count": null,
   "metadata": {},
   "outputs": [],
   "source": []
  },
  {
   "cell_type": "code",
   "execution_count": null,
   "metadata": {},
   "outputs": [],
   "source": []
  }
 ],
 "metadata": {
  "kernelspec": {
   "display_name": "Python 3",
   "language": "python",
   "name": "python3"
  },
  "language_info": {
   "codemirror_mode": {
    "name": "ipython",
    "version": 3
   },
   "file_extension": ".py",
   "mimetype": "text/x-python",
   "name": "python",
   "nbconvert_exporter": "python",
   "pygments_lexer": "ipython3",
   "version": "3.7.4"
  }
 },
 "nbformat": 4,
 "nbformat_minor": 4
}
